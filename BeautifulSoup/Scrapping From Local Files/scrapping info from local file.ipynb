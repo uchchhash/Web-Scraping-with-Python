{
 "cells": [
  {
   "cell_type": "markdown",
   "id": "certain-faculty",
   "metadata": {},
   "source": [
    "# Importing the library"
   ]
  },
  {
   "cell_type": "code",
   "execution_count": 1,
   "id": "average-hydrogen",
   "metadata": {},
   "outputs": [],
   "source": [
    "from bs4 import BeautifulSoup"
   ]
  },
  {
   "cell_type": "markdown",
   "id": "complimentary-aquarium",
   "metadata": {},
   "source": [
    "### Opening the local HTML file"
   ]
  },
  {
   "cell_type": "code",
   "execution_count": 2,
   "id": "essential-hungarian",
   "metadata": {},
   "outputs": [],
   "source": [
    "with open('home.html', 'r') as html_file:\n",
    "    content = html_file.read()\n",
    "\n",
    "    soup = BeautifulSoup(content, 'lxml')"
   ]
  },
  {
   "cell_type": "markdown",
   "id": "intelligent-gateway",
   "metadata": {},
   "source": [
    "#### Grab the first H5 header tag"
   ]
  },
  {
   "cell_type": "code",
   "execution_count": 4,
   "id": "separate-foundation",
   "metadata": {},
   "outputs": [
    {
     "name": "stdout",
     "output_type": "stream",
     "text": [
      "<h5 class=\"card-title\">Python for beginners</h5>\n"
     ]
    }
   ],
   "source": [
    "first_h5 = soup.find('h5')\n",
    "print(first_h5)"
   ]
  },
  {
   "cell_type": "markdown",
   "id": "unexpected-field",
   "metadata": {},
   "source": [
    "#### Grab all the H5 header tags"
   ]
  },
  {
   "cell_type": "code",
   "execution_count": 5,
   "id": "imperial-partner",
   "metadata": {},
   "outputs": [
    {
     "name": "stdout",
     "output_type": "stream",
     "text": [
      "[<h5 class=\"card-title\">Python for beginners</h5>, <h5 class=\"card-title\">Python Web Development</h5>, <h5 class=\"card-title\">Python Machine Learning</h5>]\n"
     ]
    }
   ],
   "source": [
    "all_h5 = soup.find_all('h5')\n",
    "print(all_h5)"
   ]
  },
  {
   "cell_type": "markdown",
   "id": "expensive-trinity",
   "metadata": {},
   "source": [
    "#### Grab the course names HTML tags"
   ]
  },
  {
   "cell_type": "code",
   "execution_count": 6,
   "id": "conscious-column",
   "metadata": {},
   "outputs": [
    {
     "name": "stdout",
     "output_type": "stream",
     "text": [
      "Python for beginners\n",
      "Python Web Development\n",
      "Python Machine Learning\n"
     ]
    }
   ],
   "source": [
    "course_names = soup.find_all('h5')\n",
    "for titles in course_names:\n",
    "    print(titles.text)"
   ]
  },
  {
   "cell_type": "markdown",
   "id": "furnished-novel",
   "metadata": {},
   "source": [
    "#### Grab the course cards"
   ]
  },
  {
   "cell_type": "code",
   "execution_count": 7,
   "id": "robust-complex",
   "metadata": {},
   "outputs": [
    {
     "name": "stdout",
     "output_type": "stream",
     "text": [
      "[<div class=\"card\" id=\"card-python-for-beginners\">\n",
      "<div class=\"card-header\">\n",
      "            Python\n",
      "         </div>\n",
      "<div class=\"card-body\">\n",
      "<h5 class=\"card-title\">Python for beginners</h5>\n",
      "<p class=\"card-text\">If you are new to Python, this is the course that you should buy!</p>\n",
      "<a class=\"btn btn-primary\" href=\"#\">Start for 20$</a>\n",
      "</div>\n",
      "</div>, <div class=\"card\" id=\"card-python-web-development\">\n",
      "<div class=\"card-header\">\n",
      "            Python\n",
      "         </div>\n",
      "<div class=\"card-body\">\n",
      "<h5 class=\"card-title\">Python Web Development</h5>\n",
      "<p class=\"card-text\">If you feel enough confident with python, you are ready to learn how to create your own website!</p>\n",
      "<a class=\"btn btn-primary\" href=\"#\">Start for 50$</a>\n",
      "</div>\n",
      "</div>, <div class=\"card\" id=\"card-python-machine-learning\">\n",
      "<div class=\"card-header\">\n",
      "            Python\n",
      "         </div>\n",
      "<div class=\"card-body\">\n",
      "<h5 class=\"card-title\">Python Machine Learning</h5>\n",
      "<p class=\"card-text\">Become a Python Machine Learning master!</p>\n",
      "<a class=\"btn btn-primary\" href=\"#\">Start for 100$</a>\n",
      "</div>\n",
      "</div>]\n"
     ]
    }
   ],
   "source": [
    "course_cards = soup.find_all('div', class_='card')\n",
    "print(course_cards)"
   ]
  },
  {
   "cell_type": "code",
   "execution_count": 8,
   "id": "arbitrary-alcohol",
   "metadata": {},
   "outputs": [
    {
     "name": "stdout",
     "output_type": "stream",
     "text": [
      "<h5 class=\"card-title\">Python for beginners</h5>\n",
      "<h5 class=\"card-title\">Python Web Development</h5>\n",
      "<h5 class=\"card-title\">Python Machine Learning</h5>\n"
     ]
    }
   ],
   "source": [
    "course_cards = soup.find_all('div', class_='card')\n",
    "\n",
    "for course in course_cards:\n",
    "    print(course.h5)"
   ]
  },
  {
   "cell_type": "code",
   "execution_count": 9,
   "id": "rubber-wales",
   "metadata": {},
   "outputs": [
    {
     "name": "stdout",
     "output_type": "stream",
     "text": [
      "<a class=\"btn btn-primary\" href=\"#\">Start for 20$</a>\n",
      "<a class=\"btn btn-primary\" href=\"#\">Start for 50$</a>\n",
      "<a class=\"btn btn-primary\" href=\"#\">Start for 100$</a>\n"
     ]
    }
   ],
   "source": [
    "course_cards = soup.find_all('div', class_='card')\n",
    "\n",
    "for course in course_cards:\n",
    "    print(course.a)"
   ]
  },
  {
   "cell_type": "markdown",
   "id": "cooperative-mortality",
   "metadata": {},
   "source": [
    "#### Grab the course titles along with course prices (text only)"
   ]
  },
  {
   "cell_type": "code",
   "execution_count": 12,
   "id": "supposed-pavilion",
   "metadata": {},
   "outputs": [
    {
     "name": "stdout",
     "output_type": "stream",
     "text": [
      "Python for beginners\n",
      "Start for 20$\n",
      "Python Web Development\n",
      "Start for 50$\n",
      "Python Machine Learning\n",
      "Start for 100$\n"
     ]
    }
   ],
   "source": [
    "course_cards = soup.find_all('div', class_='card')\n",
    "for course in course_cards:\n",
    "    course_name = course.h5.text\n",
    "    course_price = course.a.text\n",
    "    print(course_name)\n",
    "    print(course_price)"
   ]
  },
  {
   "cell_type": "markdown",
   "id": "impressive-venture",
   "metadata": {},
   "source": [
    "#### Printing a User friendly output"
   ]
  },
  {
   "cell_type": "code",
   "execution_count": 14,
   "id": "genuine-champagne",
   "metadata": {},
   "outputs": [
    {
     "name": "stdout",
     "output_type": "stream",
     "text": [
      "Python for beginners, costs 20$\n",
      "Python Web Development, costs 50$\n",
      "Python Machine Learning, costs 100$\n"
     ]
    }
   ],
   "source": [
    "course_cards = soup.find_all('div', class_='card')\n",
    "for course in course_cards:\n",
    "    course_name = course.h5.text\n",
    "    course_price = course.a.text.split()[-1]\n",
    "\n",
    "    print(f'{course_name}, costs {course_price}')"
   ]
  },
  {
   "cell_type": "code",
   "execution_count": null,
   "id": "opposite-links",
   "metadata": {},
   "outputs": [],
   "source": []
  }
 ],
 "metadata": {
  "kernelspec": {
   "display_name": "Python 3",
   "language": "python",
   "name": "python3"
  },
  "language_info": {
   "codemirror_mode": {
    "name": "ipython",
    "version": 3
   },
   "file_extension": ".py",
   "mimetype": "text/x-python",
   "name": "python",
   "nbconvert_exporter": "python",
   "pygments_lexer": "ipython3",
   "version": "3.8.8"
  }
 },
 "nbformat": 4,
 "nbformat_minor": 5
}
